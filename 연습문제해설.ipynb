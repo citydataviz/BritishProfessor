{
  "cells": [
    {
      "cell_type": "markdown",
      "metadata": {
        "id": "LhwmyRRmIbGX"
      },
      "source": [
        "# Review"
      ]
    },
    {
      "cell_type": "markdown",
      "metadata": {
        "id": "-XFBYMTCI8pP"
      },
      "source": [
        "### 문제 01. 평균 계산하기\n",
        "\n",
        "- 철수는 5개의 과목에서 주어진 리스트와 같은 성적을 받았습니다.\n",
        "\n",
        "- 철수가 받은 성적의 평균을 계산하는 코드를 작성하세요."
      ]
    },
    {
      "cell_type": "code",
      "execution_count": 2,
      "metadata": {
        "id": "Jrwe21_4I6JJ"
      },
      "outputs": [],
      "source": [
        "# 각 성적은 0~100점 사이입니다.\n",
        "grades = [65, 70, 100, 43, 50]"
      ]
    },
    {
      "cell_type": "code",
      "execution_count": 3,
      "metadata": {
        "colab": {
          "base_uri": "https://localhost:8080/"
        },
        "id": "dErWjdNhzuf9",
        "outputId": "9e44c568-dd49-4208-c53d-3833d6a7bdc8"
      },
      "outputs": [
        {
          "name": "stdout",
          "output_type": "stream",
          "text": [
            "평균: 65.6\n"
          ]
        }
      ],
      "source": [
        "total = sum(grades)\n",
        "\n",
        "count = len(grades)\n",
        "\n",
        "average = total/count\n",
        "print('평균:', average)"
      ]
    },
    {
      "cell_type": "markdown",
      "metadata": {
        "id": "B_ghQKvBJFnu"
      },
      "source": [
        "### 문제 2. 리스트를 한 번 만들어볼까요?\n",
        "* 어떤 학급의 아이 5명의 키에 대한 정보가 주어집니다.\n",
        "* 이를 리스트로 만들고 heights 라는 변수에 담아주세요.\n",
        "*  175.3, 146, 184, 160, 167\n",
        "> 단위인 cm는 표시하지 마세요. 숫자만!"
      ]
    },
    {
      "cell_type": "code",
      "execution_count": 4,
      "metadata": {
        "colab": {
          "base_uri": "https://localhost:8080/"
        },
        "id": "j4YpqicwJEn2",
        "outputId": "22357cd4-a8ea-4f8d-c3f1-eb7bac6ac737"
      },
      "outputs": [
        {
          "data": {
            "text/plain": [
              "[175.3, 146, 184, 160, 167]"
            ]
          },
          "execution_count": 4,
          "metadata": {},
          "output_type": "execute_result"
        }
      ],
      "source": [
        "heights = [175.3, 146, 184, 160, 167]\n",
        "heights"
      ]
    },
    {
      "cell_type": "markdown",
      "metadata": {
        "id": "a2PaNyWVJqc3"
      },
      "source": [
        "### 문제 3. 리스트의 데이터 타입을 한 번 만들어볼까요?\n",
        " - 위 문제 2번에서 만든 리스트의 데이터 타입을 확인해봅시다.\n",
        "> HINT : type() 를 이용하시면 됩니다. : )"
      ]
    },
    {
      "cell_type": "code",
      "execution_count": null,
      "metadata": {
        "colab": {
          "base_uri": "https://localhost:8080/"
        },
        "id": "tbn6JjuMJpo-",
        "outputId": "011879fd-6699-45a3-8e72-aa7ed2609654"
      },
      "outputs": [
        {
          "data": {
            "text/plain": [
              "list"
            ]
          },
          "execution_count": 8,
          "metadata": {},
          "output_type": "execute_result"
        }
      ],
      "source": [
        "type(heights)"
      ]
    },
    {
      "cell_type": "markdown",
      "metadata": {
        "id": "bNEwV8mEJxzv"
      },
      "source": [
        "### 문제 4. '장훈이'이라는 친구가 전학을 왔네요.\n",
        "* 이 친구의 키는 207cm 입니다. ()\n",
        "* 이를 반영하여 코드로 구현해보고, heights의 길이를 구해보세요\n",
        "* 한 명이 전학을 왔으니, 6명이 되었겠군요.\n",
        "* 마찬가지로, cm는 표시하지 않습니다.\n",
        "> HINT : append()"
      ]
    },
    {
      "cell_type": "code",
      "execution_count": 5,
      "metadata": {
        "colab": {
          "base_uri": "https://localhost:8080/"
        },
        "id": "Tuji_AOiJ9qP",
        "outputId": "301dadab-9063-4c20-f914-5f065626e377"
      },
      "outputs": [
        {
          "data": {
            "text/plain": [
              "[175.3, 146, 184, 160, 167, 207]"
            ]
          },
          "execution_count": 5,
          "metadata": {},
          "output_type": "execute_result"
        }
      ],
      "source": [
        "heights.append(207)\n",
        "heights"
      ]
    },
    {
      "cell_type": "markdown",
      "metadata": {
        "id": "BQ4uciKlKC1t"
      },
      "source": [
        "### 문제 5. 장훈이만 이름이 있는 것이 아니다!\n",
        "- 5명의 아이들의 키는 있지만, 누구의 키인지 알 수 없었지만, 이제 알 수 있습니다.\n",
        "  - 양세형: 146(cm),  유세윤: 160(cm),  서강준: 167(cm),  유재석: 175.3(cm),  서장훈: 207cm\n",
        "  - cm 는 표시하지 않습니다.\n",
        "- 데이터 타입 중 Dictionary로 위처럼 이름(name - key)과 키(height - value)를 같이 붙여주려고 합니다.\n",
        "- 이를 코드로 작성해서 class_A 라는 변수에 담아줍니다."
      ]
    },
    {
      "cell_type": "code",
      "execution_count": 8,
      "metadata": {
        "colab": {
          "base_uri": "https://localhost:8080/"
        },
        "id": "OWwhEDWlKBri",
        "outputId": "3b22eede-52fc-48ff-e5d0-59de94a4e21f"
      },
      "outputs": [
        {
          "data": {
            "text/plain": [
              "{'양세형': 146, '유세윤': 160, '서강준': 167, '유재석': 175.3, '서장훈': 207}"
            ]
          },
          "execution_count": 8,
          "metadata": {},
          "output_type": "execute_result"
        }
      ],
      "source": [
        "class_A = {\"양세형\": 146, \"유세윤\": 160, \"서강준\": 167, \"유재석\": 175.3, \"서장훈\": 207}\n",
        "class_A"
      ]
    },
    {
      "cell_type": "code",
      "execution_count": 9,
      "metadata": {
        "colab": {
          "base_uri": "https://localhost:8080/"
        },
        "id": "WJ9zOGRQKt3I",
        "outputId": "3fb7d0ca-5d79-4bad-8a72-e858b668f701"
      },
      "outputs": [
        {
          "name": "stdout",
          "output_type": "stream",
          "text": [
            "146 cm\n"
          ]
        }
      ],
      "source": [
        "## 세형이의 키를 알아볼까요?\n",
        "print(class_A[\"양세형\"], 'cm')"
      ]
    },
    {
      "cell_type": "markdown",
      "metadata": {
        "id": "6jR8wnbHKuMl"
      },
      "source": [
        "### 문제 6. 이번에는 키로 학급의 어린이를 검색해보려고 합니다.\n",
        " - 예를 들면, \"175.3cm 인 친구는 누구였지?\"\n",
        " - 이를 코드로 구현해보고, 키가 175.3cm 인 친구를 찾아봅시다.\n",
        " > HINT : for 문을 이용해봅시다."
      ]
    },
    {
      "cell_type": "code",
      "execution_count": null,
      "metadata": {
        "colab": {
          "base_uri": "https://localhost:8080/"
        },
        "id": "XbMBpieuK3u1",
        "outputId": "500f48cb-2f42-4838-d437-dfb4687baf77"
      },
      "outputs": [
        {
          "name": "stdout",
          "output_type": "stream",
          "text": [
            "유재석\n"
          ]
        }
      ],
      "source": [
        "for name, height in class_A.items():\n",
        "    if height == 175.3:\n",
        "        print(name)"
      ]
    },
    {
      "cell_type": "code",
      "execution_count": null,
      "metadata": {
        "colab": {
          "base_uri": "https://localhost:8080/"
        },
        "id": "6UFzXudcGbEp",
        "outputId": "5e64dcf3-8754-4626-c2fa-af46c347ebac"
      },
      "outputs": [
        {
          "name": "stdout",
          "output_type": "stream",
          "text": [
            "146\n",
            "160\n",
            "167\n",
            "175.3\n",
            "207\n"
          ]
        }
      ],
      "source": [
        "for a, b in class_A.items():\n",
        "  print(b)"
      ]
    },
    {
      "cell_type": "markdown",
      "metadata": {
        "id": "DLUP70DTLu-D"
      },
      "source": [
        "### 문제 7. 간단한 계산기 함수를 만들어봅시다.\n",
        " - 더하기 기능의 간단한 함수를 코드로 작성해봅니다.\n",
        " - 이번에는 파라미터 number_01, number_02 를 받고, 이 둘을 더하는 함수 plus()를 코드로 작성합니다.\n",
        "    - 파라미터: 함수를 선언할 때 호출하는 부분에서 보내주는 데이터를 받는 변수를 뜻합니다.\n",
        "    - 아규먼트: 함수를 호출할 때 함수에 보내주는 데이터를 뜻합니다.\n",
        " - 함수를 구현한 후, 숫자 100과 23을 함수에 대입하여 함수를 실행해봅시다.\n",
        "\n",
        "> HINT: def function_name(a, b)"
      ]
    },
    {
      "cell_type": "code",
      "execution_count": 10,
      "metadata": {
        "colab": {
          "base_uri": "https://localhost:8080/"
        },
        "id": "E-AHSIbOK-uL",
        "outputId": "47e43f14-2621-4d70-9746-94267072cf02"
      },
      "outputs": [],
      "source": [
        "def plus(number_01, number_02):\n",
        "    print(number_01 + number_02)\n",
        "\n"
      ]
    },
    {
      "cell_type": "code",
      "execution_count": 11,
      "metadata": {},
      "outputs": [
        {
          "name": "stdout",
          "output_type": "stream",
          "text": [
            "123\n"
          ]
        }
      ],
      "source": [
        "plus(100, 23) "
      ]
    },
    {
      "cell_type": "markdown",
      "metadata": {
        "id": "8RXzzfp4QZRB"
      },
      "source": [
        "### 문제 8. 조건문이 들어간 간단한 함수를 코드 한 줄로 구현해봅시다.\n",
        "\n",
        " - 키가 180cm이상인 사람들의 경우, \"키가 정말 크군요\" 라는 메세지가 출력, 그렇지 않은 경우를 \"계속 키가 클 것입니다. : )\" 라는 메세지로 출력하도록 합니다.\n",
        "\n",
        " - height_high(181)과 height_high(178)을 각각 실행해볼까요?"
      ]
    },
    {
      "cell_type": "code",
      "execution_count": 12,
      "metadata": {
        "id": "bMhq0jRoL8QY"
      },
      "outputs": [],
      "source": [
        " ## (정답)\n",
        "\n",
        "## 1) height_high 함수를 다음과 같인 선언합니다.\n",
        "def height_high(height):\n",
        "    if height >= 180 :\n",
        "        return '키가 정말 크군요'  \n",
        "    else :\n",
        "        return '계속 클 것 입니다. : )'\n"
      ]
    },
    {
      "cell_type": "code",
      "execution_count": 15,
      "metadata": {
        "colab": {
          "base_uri": "https://localhost:8080/",
          "height": 36
        },
        "id": "pEw-AOf5Qf4f",
        "outputId": "a70c3987-7f51-4ed8-a247-3199eb8475d9"
      },
      "outputs": [
        {
          "data": {
            "text/plain": [
              "'키가 정말 크군요'"
            ]
          },
          "execution_count": 15,
          "metadata": {},
          "output_type": "execute_result"
        }
      ],
      "source": [
        "## 3) height_high(181)을 각각 실행해볼까요?\n",
        "height_high(181)"
      ]
    },
    {
      "cell_type": "code",
      "execution_count": 16,
      "metadata": {
        "colab": {
          "base_uri": "https://localhost:8080/",
          "height": 36
        },
        "id": "sgXdoLJXQnsK",
        "outputId": "84be866f-97de-48f5-85a1-e2f5deccd98d"
      },
      "outputs": [
        {
          "data": {
            "text/plain": [
              "'계속 클 것 입니다. : )'"
            ]
          },
          "execution_count": 16,
          "metadata": {},
          "output_type": "execute_result"
        }
      ],
      "source": [
        "## 4) height_high(178)을 각각 실행해볼까요?\n",
        "height_high(178)"
      ]
    },
    {
      "cell_type": "code",
      "execution_count": null,
      "metadata": {},
      "outputs": [],
      "source": []
    }
  ],
  "metadata": {
    "colab": {
      "provenance": []
    },
    "kernelspec": {
      "display_name": "Python 3.10.7 64-bit",
      "language": "python",
      "name": "python3"
    },
    "language_info": {
      "codemirror_mode": {
        "name": "ipython",
        "version": 3
      },
      "file_extension": ".py",
      "mimetype": "text/x-python",
      "name": "python",
      "nbconvert_exporter": "python",
      "pygments_lexer": "ipython3",
      "version": "3.10.7"
    },
    "vscode": {
      "interpreter": {
        "hash": "aee8b7b246df8f9039afb4144a1f6fd8d2ca17a180786b69acc140d282b71a49"
      }
    }
  },
  "nbformat": 4,
  "nbformat_minor": 0
}
